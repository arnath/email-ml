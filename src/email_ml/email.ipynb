{
 "cells": [
  {
   "cell_type": "markdown",
   "metadata": {},
   "source": [
    "I downloaded my email data from Google Takeout. It gets delivered as a `.mbox` file, which Python can parse natively using the `mailbox` library. "
   ]
  },
  {
   "cell_type": "code",
   "execution_count": 3,
   "metadata": {},
   "outputs": [],
   "source": [
    "import mailbox\n",
    "import pathlib\n",
    "\n",
    "data_path = pathlib.Path('../../data')\n",
    "\n",
    "# Load the combined file that contains all the messages.\n",
    "combined_mbox = mailbox.mbox(data_path / 'prakashdotvijay.mbox', create=False)"
   ]
  },
  {
   "cell_type": "markdown",
   "metadata": {},
   "source": [
    "I did some digging into ways I could split this file up because it's hard to deal with 70k messages at once. Unfortunately there weren't great options for this. I eventually realized I could split it into separate files myself. Groups that make sense to me:\n",
    "\n",
    "- Trash\n",
    "- Spam\n",
    "- Category Promotions\n",
    "- Receipts\n",
    "- Everything else"
   ]
  },
  {
   "cell_type": "code",
   "execution_count": 4,
   "metadata": {},
   "outputs": [],
   "source": [
    "# Create/open individual mailboxes\n",
    "trash_mbox = mailbox.mbox(data_path / 'trash.mbox')\n",
    "spam_mbox = mailbox.mbox(data_path / 'spam.mbox')\n",
    "promotions_mbox = mailbox.mbox(data_path / 'promotions.mbox')\n",
    "receipts_mbox = mailbox.mbox(data_path / 'receipts.mbox')\n",
    "leftover_mbox = mailbox.mbox(data_path / 'leftover.mbox')"
   ]
  },
  {
   "cell_type": "code",
   "execution_count": 3,
   "metadata": {},
   "outputs": [],
   "source": [
    "# Divide the messages into individual mailboxes\n",
    "messages = combined_mbox.itervalues()\n",
    "for message in messages:\n",
    "  labels = (message['X-Gmail-Labels'] or '').split(',')\n",
    "  if 'Trash' in labels:\n",
    "    trash_mbox.add(message)\n",
    "  elif 'Spam' in labels:\n",
    "    spam_mbox.add(message)\n",
    "  elif 'Category Promotions' in labels:\n",
    "    promotions_mbox.add(message)\n",
    "  elif 'Receipts' in labels:\n",
    "    receipts_mbox.add(message)\n",
    "  else:\n",
    "    leftover_mbox.add(message)\n"
   ]
  },
  {
   "cell_type": "code",
   "execution_count": 5,
   "metadata": {},
   "outputs": [
    {
     "name": "stdout",
     "output_type": "stream",
     "text": [
      "Total messages: 72983\n",
      "Trash messages: 454\n",
      "Spam messages: 38\n",
      "Promotion messages: 19471\n",
      "Receipt messages: 2078\n",
      "Leftover messages: 50942\n"
     ]
    }
   ],
   "source": [
    "# List out the number of messages in each inbox\n",
    "print(f'Total messages: {len(combined_mbox)}')\n",
    "print(f'Trash messages: {len(trash_mbox)}')\n",
    "print(f'Spam messages: {len(spam_mbox)}')\n",
    "print(f'Promotion messages: {len(promotions_mbox)}')\n",
    "print(f'Receipt messages: {len(receipts_mbox)}')\n",
    "print(f'Leftover messages: {len(leftover_mbox)}')\n"
   ]
  },
  {
   "cell_type": "markdown",
   "metadata": {},
   "source": [
    "Something I thought would be nice to be able to do is poke at the Promotions bucket. 99% of what's in here is spam but Gmail doesn't really provide a convenient way to group things up and get rid of them all at once. That should be easier with Python's math libraries. Step 1 of that is to cut up the email address to filter down to just the domain. "
   ]
  },
  {
   "cell_type": "code",
   "execution_count": 7,
   "metadata": {},
   "outputs": [
    {
     "name": "stdout",
     "output_type": "stream",
     "text": [
      "['X-GM-THRID', 'X-Gmail-Labels', 'Delivered-To', 'Received', 'X-Google-Smtp-Source', 'X-Received', 'ARC-Seal', 'ARC-Message-Signature', 'ARC-Authentication-Results', 'Return-Path', 'Received', 'Received-SPF', 'Authentication-Results', 'DKIM-Signature', 'DKIM-Signature', 'Date', 'To', 'From', 'Reply-to', 'Subject', 'Message-ID', 'CFBL-Address', 'X-Subscription', 'X-Mailer', 'X-MessageID', 'List-Id', 'X-Abuse-Info', 'X-Abuse-Info', 'X-Complaints-To', 'X-Report-Abuse', 'X-CSA-Complaints', 'Feedback-ID', 'List-Unsubscribe', 'List-Unsubscribe-Post', 'X-Virtual-MTA', 'MIME-Version', 'Content-Type']\n"
     ]
    }
   ],
   "source": [
    "messages = promotions_mbox.itervalues()\n",
    "message = next(messages)\n",
    "print(message.keys())"
   ]
  },
  {
   "cell_type": "code",
   "execution_count": 46,
   "metadata": {},
   "outputs": [
    {
     "name": "stdout",
     "output_type": "stream",
     "text": [
      "info@cantura.club\n",
      "['google.com']\n"
     ]
    }
   ],
   "source": [
    "import email\n",
    "import re\n",
    "\n",
    "parsed_email = email.utils.parseaddr(message['From'])[1]\n",
    "print(parsed_email)\n",
    "\n",
    "regex = re.compile(r\"[@\\.](\\w+?\\.\\w+)\\Z\")\n",
    "match = regex.findall(\"foo@a.b.c.google.com\")\n",
    "print(match)\n"
   ]
  },
  {
   "cell_type": "markdown",
   "metadata": {},
   "source": [
    "I decided it would be good to encapsulate some of this parsing logic in a class. Eventually this can be moved out of the notebook but it's easier to work with in here."
   ]
  },
  {
   "cell_type": "code",
   "execution_count": 47,
   "metadata": {},
   "outputs": [
    {
     "ename": "TypeError",
     "evalue": "object.__new__(X): X is not a type object (mboxMessage)",
     "output_type": "error",
     "traceback": [
      "\u001b[0;31m---------------------------------------------------------------------------\u001b[0m",
      "\u001b[0;31mTypeError\u001b[0m                                 Traceback (most recent call last)",
      "Cell \u001b[0;32mIn[47], line 19\u001b[0m\n\u001b[1;32m     17\u001b[0m parsed_messages \u001b[38;5;241m=\u001b[39m \u001b[38;5;28mmap\u001b[39m(ParsedMessage\u001b[38;5;241m.\u001b[39m\u001b[38;5;21m__new__\u001b[39m, messages)\n\u001b[1;32m     18\u001b[0m messages_by_domain \u001b[38;5;241m=\u001b[39m \u001b[38;5;28mdict\u001b[39m()\n\u001b[0;32m---> 19\u001b[0m \u001b[38;5;28;43;01mfor\u001b[39;49;00m\u001b[43m \u001b[49m\u001b[43mdomain\u001b[49m\u001b[43m,\u001b[49m\u001b[43m \u001b[49m\u001b[43mgroup\u001b[49m\u001b[43m \u001b[49m\u001b[38;5;129;43;01min\u001b[39;49;00m\u001b[43m \u001b[49m\u001b[43mitertools\u001b[49m\u001b[38;5;241;43m.\u001b[39;49m\u001b[43mgroupby\u001b[49m\u001b[43m(\u001b[49m\u001b[43mparsed_messages\u001b[49m\u001b[43m,\u001b[49m\u001b[43m \u001b[49m\u001b[38;5;28;43;01mlambda\u001b[39;49;00m\u001b[43m \u001b[49m\u001b[43mm\u001b[49m\u001b[43m:\u001b[49m\u001b[43m \u001b[49m\u001b[43mm\u001b[49m\u001b[38;5;241;43m.\u001b[39;49m\u001b[43msender_domain\u001b[49m\u001b[43m)\u001b[49m\u001b[43m:\u001b[49m\n\u001b[1;32m     20\u001b[0m \u001b[43m  \u001b[49m\u001b[43mmessages_by_domain\u001b[49m\u001b[43m[\u001b[49m\u001b[43mdomain\u001b[49m\u001b[43m]\u001b[49m\u001b[43m \u001b[49m\u001b[38;5;241;43m=\u001b[39;49m\u001b[43m \u001b[49m\u001b[38;5;28;43mlen\u001b[39;49m\u001b[43m(\u001b[49m\u001b[43mgroup\u001b[49m\u001b[43m)\u001b[49m\n\u001b[1;32m     22\u001b[0m \u001b[38;5;28mprint\u001b[39m(messages_by_domain)\n",
      "\u001b[0;31mTypeError\u001b[0m: object.__new__(X): X is not a type object (mboxMessage)"
     ]
    }
   ],
   "source": [
    "import collections\n",
    "import itertools\n",
    "\n",
    "class ParsedMessage:\n",
    "  def __init__(self, message):\n",
    "    self.pattern = re.compile(r\"[@\\.](\\w+?\\.\\w+)\\Z\")\n",
    "    self.sender_domain = self.__parse_sender_domain(message)\n",
    "    \n",
    "  def __parse_sender_domain(self, message):\n",
    "    parsed_email = email.utils.parseaddr(message['From'])[1]\n",
    "    groups = self.pattern.findall(parsed_email)\n",
    "    if len(groups) == 0:\n",
    "      return None\n",
    "    \n",
    "    return groups.pop()\n",
    "  \n",
    "messages = promotions_mbox.itervalues()\n",
    "for message in messages:\n",
    "  parsed_message = ParsedMessage(message)\n",
    "  domain = parsed_message.sender_domain\n",
    "  if domain is not None:\n",
    "\n",
    "parsed_messages = map(ParsedMessage.__new__, messages)\n",
    "messages_by_domain = dict()\n",
    "for domain, group in itertools.groupby(parsed_messages, lambda m: m.sender_domain):\n",
    "  messages_by_domain[domain] = len(group)\n",
    "\n",
    "print(messages_by_domain)"
   ]
  }
 ],
 "metadata": {
  "kernelspec": {
   "display_name": "email-ml",
   "language": "python",
   "name": "python3"
  },
  "language_info": {
   "codemirror_mode": {
    "name": "ipython",
    "version": 3
   },
   "file_extension": ".py",
   "mimetype": "text/x-python",
   "name": "python",
   "nbconvert_exporter": "python",
   "pygments_lexer": "ipython3",
   "version": "3.12.4"
  }
 },
 "nbformat": 4,
 "nbformat_minor": 2
}
